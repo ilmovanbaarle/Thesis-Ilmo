{
 "cells": [
  {
   "cell_type": "code",
   "execution_count": 1,
   "metadata": {},
   "outputs": [],
   "source": [
    "import win32com.client\n",
    "import pandas as pd\n",
    "import numpy as np\n",
    "\n",
    "wd = \"C:/Users/nlilbm/Documents/Thesis/20201221 Mobilitievisie Groningen - complete\""
   ]
  },
  {
   "cell_type": "code",
   "execution_count": 2,
   "metadata": {},
   "outputs": [],
   "source": [
    "Visum = win32com.client.Dispatch(\"Visum.Visum\")\n",
    "Visum.LoadVersion(wd + \"/Version for Thesis good.ver\")"
   ]
  },
  {
   "cell_type": "markdown",
   "metadata": {},
   "source": [
    "odMatrix = myvisum.Net.SetAttValue(\"MODEL_ITER\",0)"
   ]
  },
  {
   "cell_type": "markdown",
   "metadata": {},
   "source": [
    "myvisum.SaveVersion(\"example.ver\") "
   ]
  },
  {
   "cell_type": "markdown",
   "metadata": {},
   "source": [
    "myvisum.Procedures.Execute()"
   ]
  },
  {
   "cell_type": "code",
   "execution_count": 3,
   "metadata": {},
   "outputs": [
    {
     "data": {
      "text/plain": [
       "88434"
      ]
     },
     "execution_count": 3,
     "metadata": {},
     "output_type": "execute_result"
    }
   ],
   "source": [
    "Visum.Net.Nodes.Count"
   ]
  },
  {
   "cell_type": "markdown",
   "metadata": {},
   "source": [
    "link2 = myvisum.Net.Links.ItemByKey(3,2)\n",
    "link2.AttValue(\"VOLVEHPRT(AP)\")"
   ]
  },
  {
   "cell_type": "code",
   "execution_count": 4,
   "metadata": {},
   "outputs": [
    {
     "data": {
      "text/plain": [
       "6.999727159311247"
      ]
     },
     "execution_count": 4,
     "metadata": {},
     "output_type": "execute_result"
    }
   ],
   "source": [
    "mat = Visum.Net.Matrices.ItemByKey(1)\n",
    "sum(list(mat.GetRow(2)))"
   ]
  },
  {
   "cell_type": "code",
   "execution_count": 5,
   "metadata": {},
   "outputs": [],
   "source": [
    "messageCount = Visum.Messages.Count\n",
    "\n",
    "for i in range(1,messageCount+1):\n",
    "    msg = Visum.Messages.Item(i)\n",
    "    print(\"Message \" + str(i) + \" is: \" + msg.Text)"
   ]
  },
  {
   "cell_type": "code",
   "execution_count": 6,
   "metadata": {},
   "outputs": [],
   "source": [
    "import math\n",
    "\n",
    "# more or less default imports when using\n",
    "# the workbench\n",
    "import numpy as np\n",
    "import pandas as pd\n",
    "import seaborn as sns\n",
    "import matplotlib.pyplot as plt\n",
    "\n",
    "from scipy.optimize import brentq\n",
    "\n",
    "def small_model(numlanes=1,v0=50,nsamples=5):\n",
    "    \n",
    "    link2_vol = 0\n",
    "    link3_vol = 0\n",
    "    link5_vol = 0\n",
    "    link10_vol = 0\n",
    "    \n",
    "    Visum.Net.Links.ItemByKey(3,2).SetAttValue(\"V0PRT\",v0)\n",
    "    Visum.Net.Links.ItemByKey(5,8).SetAttValue(\"V0PRT\",v0)\n",
    "    Visum.Net.Links.ItemByKey(3,2).SetAttValue(\"NUMLANES\",numlanes)\n",
    "    Visum.Net.Links.ItemByKey(5,8).SetAttValue(\"NUMLANES\",numlanes)\n",
    "    \n",
    "    for i in range(nsamples):\n",
    "        myvisum.Procedures.Execute()\n",
    "\n",
    "        link2_vol += Visum.Net.Links.ItemByKey(3,2).AttValue(\"VOLVEHPRT(AP)\")\n",
    "        link3_vol = Visum.Net.Links.ItemByKey(2,5).AttValue(\"VOLVEHPRT(AP)\")\n",
    "        link5_vol = Visum.Net.Links.ItemByKey(5,8).AttValue(\"VOLVEHPRT(AP)\")\n",
    "        link10_vol = Visum.Net.Links.ItemByKey(3,4).AttValue(\"VOLVEHPRT(AP)\")\n",
    "    \n",
    "    link2_vol = link2_vol / nsamples\n",
    "    link3_vol = link3_vol / nsamples\n",
    "    link5_vol = link5_vol / nsamples\n",
    "    link10_vol = link10_vol / nsamples\n",
    "    \n",
    "    return link10_vol, link5_vol, link3_vol, link2_vol"
   ]
  },
  {
   "cell_type": "code",
   "execution_count": 7,
   "metadata": {},
   "outputs": [],
   "source": [
    "def scenario_instellingen(KMKOSTEN=0.7,OVKOSTEN=1.028,EBIKE_BS=0.28,EBIKE_OW=0.11,THUISW=0.95):\n",
    "\n",
    "    # naam uitvoer\n",
    "    Visum.Net.SetAttValue(\"SCENARIO\",\"GroVem_2040H\")\n",
    "\n",
    "    # WLO scenario: 2030L 2030H 2040L 2040H (andere waarden niet toegestaan\n",
    "    Visum.Net.SetAttValue(\"WLO\",\"2040H\")\n",
    "\n",
    "    # Parameters\n",
    "    # KMKOSTEN=Visum.Net.AttValue(\"KMKOSTENINDEX\")\n",
    "    # OVKOSTEN=Visum.Net.AttValue(\"OVKOSTENINDEX\")\n",
    "    # EBIKE_BS=Visum.Net.AttValue(\"EBIKE_BASIS\")\n",
    "    # EBIKE_OW=Visum.Net.AttValue(\"EBIKE_OW\")\n",
    "    # THUISW=Visum.Net.AttValue(\"THUISWERKREDUCTIE\")\n",
    "\n",
    "\n",
    "\n",
    "    #=============================================== Hieronder Niet wijzigen =================================\n",
    "    # SCENARIO INSTELLINGEN\n",
    "    Visum.Net.SetAttValue(\"INDEXOVKOSTEN\",OVKOSTEN)\n",
    "\n",
    "    Visum.Net.Activities.SetMultiAttValues(\"IndexAutoKosten\",((1,KMKOSTEN),(2,KMKOSTEN),(3,KMKOSTEN),(4,KMKOSTEN),(5,KMKOSTEN),(6,KMKOSTEN),(7,KMKOSTEN),(8,KMKOSTEN),(9,KMKOSTEN),(10,KMKOSTEN),(11,KMKOSTEN),(12,KMKOSTEN),(13,KMKOSTEN),(14,KMKOSTEN)),Add=False)# Autokosten via Add1 toedeling\n",
    "    # Eerste iteratie gaat uit van Basisjaar LOS\n",
    "    # Daarom hier een algemene kosten index voor de eerste iteratie\n",
    "    Visum.Net.SetAttValue(\"IndexAutoKostBasis\",KMKOSTEN)\n",
    "\n",
    "    # Thuiswerken\n",
    "    Visum.Net.SetAttValue(\"THUIS_FT\",THUISW)\n",
    "    Visum.Net.SetAttValue(\"THUIS_PT\",THUISW)\n",
    "    Visum.Net.SetAttValue(\"THUIS_STUD\",THUISW)\n",
    "    Visum.Net.SetAttValue(\"THUIS_PENS\",THUISW)\n",
    "    Visum.Net.SetAttValue(\"THUIS_OVER\",THUISW)\n",
    "\n",
    "    # % Ebike\n",
    "    Visum.Net.Activities.SetMultiAttValues(\"Ebike_frac\",((1,EBIKE_BS),(2,EBIKE_BS),(3,EBIKE_OW),(4,EBIKE_BS),(5,EBIKE_BS),(6,EBIKE_BS),(7,EBIKE_OW),(8,EBIKE_BS),(9,EBIKE_BS),(10,EBIKE_BS),(11,EBIKE_BS),(12,0.0),(13,0.0),(14,0.0)),Add=False)"
   ]
  },
  {
   "cell_type": "code",
   "execution_count": 8,
   "metadata": {},
   "outputs": [],
   "source": [
    "def bigmodel(KMKOSTEN,OVKOSTEN,EBIKE_BS,EBIKE_OW,THUISW,nsamples=1):\n",
    "    scenario_instellingen(KMKOSTEN,OVKOSTEN,EBIKE_BS,EBIKE_OW,THUISW)\n",
    "   \n",
    "    for i in range(nsamples):\n",
    "        Visum.Procedures.Execute()\n",
    "        \n",
    "    TAB_GroVem_2040H_Iter1.csv\n",
    "    df1 = pd.read_csv('20201221 Mobilitievisie Groningen - complete/TAB_GroVem_2040H_Iter1.csv')\n",
    "    df2 = pd.read_csv('20201221 Mobilitievisie Groningen - complete/TAB_all_GroVem_2040H_Iter1.csv')\n",
    "    df3 = pd.read_csv('20201221 Mobilitievisie Groningen - complete/TAB_km_GroVem_2040H_Iter1.csv', header =None)\n",
    "    \n",
    "    car_km = df1[df1.VVW == 'AB'].Value.sum()\n",
    "    OV_km = df1[df1.VVW == 'OV'].Value.sum()\n",
    "    total_km = df1.Value.sum()\n",
    "    \n",
    "    car_share = car_km/total_km\n",
    "    OV_share = OV_km/total_km\n",
    "    \n",
    "    return car_share, OV_share, total_km"
   ]
  },
  {
   "cell_type": "code",
   "execution_count": 9,
   "metadata": {},
   "outputs": [
    {
     "data": {
      "text/plain": [
       "1340303.4058225711"
      ]
     },
     "execution_count": 9,
     "metadata": {},
     "output_type": "execute_result"
    }
   ],
   "source": [
    "df1 = pd.read_csv('20201221 Mobilitievisie Groningen - complete/TAB_GroVem_2040H_Iter1.csv')\n",
    "df1 = df1[df1.O == 1].Value.sum()\n",
    "df1"
   ]
  },
  {
   "cell_type": "code",
   "execution_count": 10,
   "metadata": {},
   "outputs": [
    {
     "data": {
      "text/plain": [
       "1\n",
       "TAB_V45_BASIS          Regio Groningen\n",
       "TAB_V45_BASIS          Regio Groningen\n",
       "TAB_V45_BASIS       Gemeente Groningen\n",
       "TAB_V45_BASIS       Gemeente Groningen\n",
       "TAB_V45_BASIS            Corridor Zuid\n",
       "TAB_V45_BASIS            Corridor Zuid\n",
       "TAB_V45_BASIS       Corridor Zuid Oost\n",
       "TAB_V45_BASIS       Corridor Zuid Oost\n",
       "TAB_V45_BASIS      Corridor Noord Oost\n",
       "TAB_V45_BASIS      Corridor Noord Oost\n",
       "TAB_V45_BASIS      Corridor Noord West\n",
       "TAB_V45_BASIS      Corridor Noord West\n",
       "TAB_V45_BASIS       Corridor Zuid West\n",
       "TAB_V45_BASIS       Corridor Zuid West\n",
       "TAB_V45_BASIS    Corridor buitengebied\n",
       "TAB_V45_BASIS    Corridor buitengebied\n",
       "TAB_V45_BASIS    Regio buiten gemeente\n",
       "TAB_V45_BASIS    Regio buiten gemeente\n",
       "Name: 2, dtype: object"
      ]
     },
     "execution_count": 10,
     "metadata": {},
     "output_type": "execute_result"
    }
   ],
   "source": [
    "xls = pd.ExcelFile('20201221 Mobilitievisie Groningen - complete/Grovem_TAB_GroVem_2040H1.xlsx')\n",
    "df1 = pd.read_excel(xls, 'SYNT_VERPL', index_col = 0, header = None, skiprows = 0,\n",
    "                nrows = 1000, usecols = 'B:H')\n",
    "df1.iloc[54,5]\n",
    "df1.loc['TAB_V45_BASIS',2]"
   ]
  },
  {
   "cell_type": "code",
   "execution_count": 11,
   "metadata": {},
   "outputs": [
    {
     "data": {
      "text/html": [
       "<div>\n",
       "<style scoped>\n",
       "    .dataframe tbody tr th:only-of-type {\n",
       "        vertical-align: middle;\n",
       "    }\n",
       "\n",
       "    .dataframe tbody tr th {\n",
       "        vertical-align: top;\n",
       "    }\n",
       "\n",
       "    .dataframe thead th {\n",
       "        text-align: right;\n",
       "    }\n",
       "</style>\n",
       "<table border=\"1\" class=\"dataframe\">\n",
       "  <thead>\n",
       "    <tr style=\"text-align: right;\">\n",
       "      <th></th>\n",
       "      <th>2</th>\n",
       "      <th>3</th>\n",
       "      <th>4</th>\n",
       "      <th>5</th>\n",
       "      <th>6</th>\n",
       "      <th>7</th>\n",
       "    </tr>\n",
       "    <tr>\n",
       "      <th>1</th>\n",
       "      <th></th>\n",
       "      <th></th>\n",
       "      <th></th>\n",
       "      <th></th>\n",
       "      <th></th>\n",
       "      <th></th>\n",
       "    </tr>\n",
       "  </thead>\n",
       "  <tbody>\n",
       "    <tr>\n",
       "      <th>NaN</th>\n",
       "      <td>AB</td>\n",
       "      <td>AP</td>\n",
       "      <td>OV</td>\n",
       "      <td>FTS</td>\n",
       "      <td>LPN</td>\n",
       "      <td>NaN</td>\n",
       "    </tr>\n",
       "    <tr>\n",
       "      <th>TAB_V45_BASIS</th>\n",
       "      <td>Regio Groningen</td>\n",
       "      <td>NaN</td>\n",
       "      <td>NaN</td>\n",
       "      <td>NaN</td>\n",
       "      <td>NaN</td>\n",
       "      <td>NaN</td>\n",
       "    </tr>\n",
       "    <tr>\n",
       "      <th>Etmaalperiode</th>\n",
       "      <td>Autobestuurder</td>\n",
       "      <td>Autopassagier</td>\n",
       "      <td>Openbaar Vervoer</td>\n",
       "      <td>Fiets</td>\n",
       "      <td>Lopen</td>\n",
       "      <td>Totaal</td>\n",
       "    </tr>\n",
       "    <tr>\n",
       "      <th>Woonwerk</th>\n",
       "      <td>369358</td>\n",
       "      <td>17605.3</td>\n",
       "      <td>56524.2</td>\n",
       "      <td>266384</td>\n",
       "      <td>24938.6</td>\n",
       "      <td>734810</td>\n",
       "    </tr>\n",
       "    <tr>\n",
       "      <th>Zakelijk</th>\n",
       "      <td>41703.7</td>\n",
       "      <td>1906.28</td>\n",
       "      <td>6028.22</td>\n",
       "      <td>14265.7</td>\n",
       "      <td>1595.84</td>\n",
       "      <td>65499.7</td>\n",
       "    </tr>\n",
       "    <tr>\n",
       "      <th>...</th>\n",
       "      <td>...</td>\n",
       "      <td>...</td>\n",
       "      <td>...</td>\n",
       "      <td>...</td>\n",
       "      <td>...</td>\n",
       "      <td>...</td>\n",
       "    </tr>\n",
       "    <tr>\n",
       "      <th>KOW</th>\n",
       "      <td>1.48e-10</td>\n",
       "      <td>47479.9</td>\n",
       "      <td>294.789</td>\n",
       "      <td>94137.2</td>\n",
       "      <td>42828.3</td>\n",
       "      <td>184740</td>\n",
       "    </tr>\n",
       "    <tr>\n",
       "      <th>KWI</th>\n",
       "      <td>0</td>\n",
       "      <td>20136.1</td>\n",
       "      <td>408.192</td>\n",
       "      <td>18778.4</td>\n",
       "      <td>12125.4</td>\n",
       "      <td>51448</td>\n",
       "    </tr>\n",
       "    <tr>\n",
       "      <th>KOV</th>\n",
       "      <td>4.154e-09</td>\n",
       "      <td>52434.4</td>\n",
       "      <td>1010.26</td>\n",
       "      <td>62114.2</td>\n",
       "      <td>36181.5</td>\n",
       "      <td>151740</td>\n",
       "    </tr>\n",
       "    <tr>\n",
       "      <th>OVK</th>\n",
       "      <td>0</td>\n",
       "      <td>0</td>\n",
       "      <td>0</td>\n",
       "      <td>0</td>\n",
       "      <td>0</td>\n",
       "      <td>0</td>\n",
       "    </tr>\n",
       "    <tr>\n",
       "      <th>TOTAAL</th>\n",
       "      <td>883833</td>\n",
       "      <td>245170</td>\n",
       "      <td>96591.7</td>\n",
       "      <td>962589</td>\n",
       "      <td>385684</td>\n",
       "      <td>2.57387e+06</td>\n",
       "    </tr>\n",
       "  </tbody>\n",
       "</table>\n",
       "<p>251 rows × 6 columns</p>\n",
       "</div>"
      ],
      "text/plain": [
       "                             2              3                 4        5  \\\n",
       "1                                                                          \n",
       "NaN                         AB             AP                OV      FTS   \n",
       "TAB_V45_BASIS  Regio Groningen            NaN               NaN      NaN   \n",
       "Etmaalperiode   Autobestuurder  Autopassagier  Openbaar Vervoer    Fiets   \n",
       "Woonwerk                369358        17605.3           56524.2   266384   \n",
       "Zakelijk               41703.7        1906.28           6028.22  14265.7   \n",
       "...                        ...            ...               ...      ...   \n",
       "KOW                   1.48e-10        47479.9           294.789  94137.2   \n",
       "KWI                          0        20136.1           408.192  18778.4   \n",
       "KOV                  4.154e-09        52434.4           1010.26  62114.2   \n",
       "OVK                          0              0                 0        0   \n",
       "TOTAAL                  883833         245170           96591.7   962589   \n",
       "\n",
       "                     6            7  \n",
       "1                                    \n",
       "NaN                LPN          NaN  \n",
       "TAB_V45_BASIS      NaN          NaN  \n",
       "Etmaalperiode    Lopen       Totaal  \n",
       "Woonwerk       24938.6       734810  \n",
       "Zakelijk       1595.84      65499.7  \n",
       "...                ...          ...  \n",
       "KOW            42828.3       184740  \n",
       "KWI            12125.4        51448  \n",
       "KOV            36181.5       151740  \n",
       "OVK                  0            0  \n",
       "TOTAAL          385684  2.57387e+06  \n",
       "\n",
       "[251 rows x 6 columns]"
      ]
     },
     "execution_count": 11,
     "metadata": {},
     "output_type": "execute_result"
    }
   ],
   "source": [
    "df1"
   ]
  },
  {
   "cell_type": "code",
   "execution_count": 13,
   "metadata": {},
   "outputs": [],
   "source": [
    "from ema_workbench import (RealParameter, IntegerParameter, ScalarOutcome, Constant,\n",
    "                           Model)\n",
    "\n",
    "model = Model('bigmodel', function=bigmodel)\n",
    "\n",
    "#specify uncertainties\n",
    "model.uncertainties = [RealParameter('EBIKE_BS', 0.2, 0.5),\n",
    "                      RealParameter('EBIKE_OW', 0.08, 0.25),\n",
    "                      RealParameter('THUISW', 0.8, 0.99)]\n",
    "\n",
    "# set levers\n",
    "model.levers = [RealParameter('KMKOSTEN', 0.5 ,0.9),\n",
    "               RealParameter('OVKOSTEN', 0.9, 1.1)]\n",
    "\n",
    "#specify outcomes\n",
    "model.outcomes = [ScalarOutcome('car_share'),\n",
    "                  ScalarOutcome('OV_share'),\n",
    "                  ScalarOutcome('total_km'),]\n",
    "\n",
    "# override some of the defaults of the model\n",
    "model.constants = [Constant('nsamples', 1)]"
   ]
  },
  {
   "cell_type": "code",
   "execution_count": 37,
   "metadata": {},
   "outputs": [
    {
     "name": "stderr",
     "output_type": "stream",
     "text": [
      "[MainProcess/INFO] performing 4 scenarios * 4 policies * 1 model(s) = 16 experiments\n",
      "[MainProcess/INFO] performing experiments sequentially\n",
      "[MainProcess/INFO] 2 cases completed\n",
      "[MainProcess/INFO] 4 cases completed\n",
      "[MainProcess/INFO] 6 cases completed\n",
      "[MainProcess/INFO] 8 cases completed\n",
      "[MainProcess/INFO] 10 cases completed\n",
      "[MainProcess/INFO] 12 cases completed\n",
      "[MainProcess/INFO] 14 cases completed\n",
      "[MainProcess/INFO] 16 cases completed\n",
      "[MainProcess/INFO] experiments finished\n"
     ]
    }
   ],
   "source": [
    "from ema_workbench import (MultiprocessingEvaluator, SequentialEvaluator, ema_logging,\n",
    "                           perform_experiments)\n",
    "ema_logging.log_to_stderr(ema_logging.INFO)\n",
    "\n",
    "with SequentialEvaluator(model) as evaluator:\n",
    "    results = evaluator.perform_experiments(scenarios=4, policies=4)"
   ]
  },
  {
   "cell_type": "code",
   "execution_count": 38,
   "metadata": {},
   "outputs": [
    {
     "data": {
      "text/html": [
       "<div>\n",
       "<style scoped>\n",
       "    .dataframe tbody tr th:only-of-type {\n",
       "        vertical-align: middle;\n",
       "    }\n",
       "\n",
       "    .dataframe tbody tr th {\n",
       "        vertical-align: top;\n",
       "    }\n",
       "\n",
       "    .dataframe thead th {\n",
       "        text-align: right;\n",
       "    }\n",
       "</style>\n",
       "<table border=\"1\" class=\"dataframe\">\n",
       "  <thead>\n",
       "    <tr style=\"text-align: right;\">\n",
       "      <th></th>\n",
       "      <th>EBIKE_BS</th>\n",
       "      <th>EBIKE_OW</th>\n",
       "      <th>THUISW</th>\n",
       "      <th>KMKOSTEN</th>\n",
       "      <th>OVKOSTEN</th>\n",
       "      <th>scenario</th>\n",
       "      <th>policy</th>\n",
       "      <th>model</th>\n",
       "    </tr>\n",
       "  </thead>\n",
       "  <tbody>\n",
       "    <tr>\n",
       "      <th>0</th>\n",
       "      <td>0.362517</td>\n",
       "      <td>0.109992</td>\n",
       "      <td>0.827708</td>\n",
       "      <td>0.825432</td>\n",
       "      <td>0.948556</td>\n",
       "      <td>6</td>\n",
       "      <td>6</td>\n",
       "      <td>bigmodel</td>\n",
       "    </tr>\n",
       "    <tr>\n",
       "      <th>1</th>\n",
       "      <td>0.257671</td>\n",
       "      <td>0.248716</td>\n",
       "      <td>0.913040</td>\n",
       "      <td>0.825432</td>\n",
       "      <td>0.948556</td>\n",
       "      <td>7</td>\n",
       "      <td>6</td>\n",
       "      <td>bigmodel</td>\n",
       "    </tr>\n",
       "    <tr>\n",
       "      <th>2</th>\n",
       "      <td>0.438869</td>\n",
       "      <td>0.138328</td>\n",
       "      <td>0.978577</td>\n",
       "      <td>0.825432</td>\n",
       "      <td>0.948556</td>\n",
       "      <td>8</td>\n",
       "      <td>6</td>\n",
       "      <td>bigmodel</td>\n",
       "    </tr>\n",
       "    <tr>\n",
       "      <th>3</th>\n",
       "      <td>0.347933</td>\n",
       "      <td>0.168742</td>\n",
       "      <td>0.889470</td>\n",
       "      <td>0.825432</td>\n",
       "      <td>0.948556</td>\n",
       "      <td>9</td>\n",
       "      <td>6</td>\n",
       "      <td>bigmodel</td>\n",
       "    </tr>\n",
       "    <tr>\n",
       "      <th>4</th>\n",
       "      <td>0.362517</td>\n",
       "      <td>0.109992</td>\n",
       "      <td>0.827708</td>\n",
       "      <td>0.608296</td>\n",
       "      <td>0.970238</td>\n",
       "      <td>6</td>\n",
       "      <td>7</td>\n",
       "      <td>bigmodel</td>\n",
       "    </tr>\n",
       "    <tr>\n",
       "      <th>5</th>\n",
       "      <td>0.257671</td>\n",
       "      <td>0.248716</td>\n",
       "      <td>0.913040</td>\n",
       "      <td>0.608296</td>\n",
       "      <td>0.970238</td>\n",
       "      <td>7</td>\n",
       "      <td>7</td>\n",
       "      <td>bigmodel</td>\n",
       "    </tr>\n",
       "    <tr>\n",
       "      <th>6</th>\n",
       "      <td>0.438869</td>\n",
       "      <td>0.138328</td>\n",
       "      <td>0.978577</td>\n",
       "      <td>0.608296</td>\n",
       "      <td>0.970238</td>\n",
       "      <td>8</td>\n",
       "      <td>7</td>\n",
       "      <td>bigmodel</td>\n",
       "    </tr>\n",
       "    <tr>\n",
       "      <th>7</th>\n",
       "      <td>0.347933</td>\n",
       "      <td>0.168742</td>\n",
       "      <td>0.889470</td>\n",
       "      <td>0.608296</td>\n",
       "      <td>0.970238</td>\n",
       "      <td>9</td>\n",
       "      <td>7</td>\n",
       "      <td>bigmodel</td>\n",
       "    </tr>\n",
       "    <tr>\n",
       "      <th>8</th>\n",
       "      <td>0.362517</td>\n",
       "      <td>0.109992</td>\n",
       "      <td>0.827708</td>\n",
       "      <td>0.771119</td>\n",
       "      <td>1.084562</td>\n",
       "      <td>6</td>\n",
       "      <td>8</td>\n",
       "      <td>bigmodel</td>\n",
       "    </tr>\n",
       "    <tr>\n",
       "      <th>9</th>\n",
       "      <td>0.257671</td>\n",
       "      <td>0.248716</td>\n",
       "      <td>0.913040</td>\n",
       "      <td>0.771119</td>\n",
       "      <td>1.084562</td>\n",
       "      <td>7</td>\n",
       "      <td>8</td>\n",
       "      <td>bigmodel</td>\n",
       "    </tr>\n",
       "    <tr>\n",
       "      <th>10</th>\n",
       "      <td>0.438869</td>\n",
       "      <td>0.138328</td>\n",
       "      <td>0.978577</td>\n",
       "      <td>0.771119</td>\n",
       "      <td>1.084562</td>\n",
       "      <td>8</td>\n",
       "      <td>8</td>\n",
       "      <td>bigmodel</td>\n",
       "    </tr>\n",
       "    <tr>\n",
       "      <th>11</th>\n",
       "      <td>0.347933</td>\n",
       "      <td>0.168742</td>\n",
       "      <td>0.889470</td>\n",
       "      <td>0.771119</td>\n",
       "      <td>1.084562</td>\n",
       "      <td>9</td>\n",
       "      <td>8</td>\n",
       "      <td>bigmodel</td>\n",
       "    </tr>\n",
       "    <tr>\n",
       "      <th>12</th>\n",
       "      <td>0.362517</td>\n",
       "      <td>0.109992</td>\n",
       "      <td>0.827708</td>\n",
       "      <td>0.550985</td>\n",
       "      <td>1.049930</td>\n",
       "      <td>6</td>\n",
       "      <td>9</td>\n",
       "      <td>bigmodel</td>\n",
       "    </tr>\n",
       "    <tr>\n",
       "      <th>13</th>\n",
       "      <td>0.257671</td>\n",
       "      <td>0.248716</td>\n",
       "      <td>0.913040</td>\n",
       "      <td>0.550985</td>\n",
       "      <td>1.049930</td>\n",
       "      <td>7</td>\n",
       "      <td>9</td>\n",
       "      <td>bigmodel</td>\n",
       "    </tr>\n",
       "    <tr>\n",
       "      <th>14</th>\n",
       "      <td>0.438869</td>\n",
       "      <td>0.138328</td>\n",
       "      <td>0.978577</td>\n",
       "      <td>0.550985</td>\n",
       "      <td>1.049930</td>\n",
       "      <td>8</td>\n",
       "      <td>9</td>\n",
       "      <td>bigmodel</td>\n",
       "    </tr>\n",
       "    <tr>\n",
       "      <th>15</th>\n",
       "      <td>0.347933</td>\n",
       "      <td>0.168742</td>\n",
       "      <td>0.889470</td>\n",
       "      <td>0.550985</td>\n",
       "      <td>1.049930</td>\n",
       "      <td>9</td>\n",
       "      <td>9</td>\n",
       "      <td>bigmodel</td>\n",
       "    </tr>\n",
       "  </tbody>\n",
       "</table>\n",
       "</div>"
      ],
      "text/plain": [
       "    EBIKE_BS  EBIKE_OW    THUISW  KMKOSTEN  OVKOSTEN scenario policy     model\n",
       "0   0.362517  0.109992  0.827708  0.825432  0.948556        6      6  bigmodel\n",
       "1   0.257671  0.248716  0.913040  0.825432  0.948556        7      6  bigmodel\n",
       "2   0.438869  0.138328  0.978577  0.825432  0.948556        8      6  bigmodel\n",
       "3   0.347933  0.168742  0.889470  0.825432  0.948556        9      6  bigmodel\n",
       "4   0.362517  0.109992  0.827708  0.608296  0.970238        6      7  bigmodel\n",
       "5   0.257671  0.248716  0.913040  0.608296  0.970238        7      7  bigmodel\n",
       "6   0.438869  0.138328  0.978577  0.608296  0.970238        8      7  bigmodel\n",
       "7   0.347933  0.168742  0.889470  0.608296  0.970238        9      7  bigmodel\n",
       "8   0.362517  0.109992  0.827708  0.771119  1.084562        6      8  bigmodel\n",
       "9   0.257671  0.248716  0.913040  0.771119  1.084562        7      8  bigmodel\n",
       "10  0.438869  0.138328  0.978577  0.771119  1.084562        8      8  bigmodel\n",
       "11  0.347933  0.168742  0.889470  0.771119  1.084562        9      8  bigmodel\n",
       "12  0.362517  0.109992  0.827708  0.550985  1.049930        6      9  bigmodel\n",
       "13  0.257671  0.248716  0.913040  0.550985  1.049930        7      9  bigmodel\n",
       "14  0.438869  0.138328  0.978577  0.550985  1.049930        8      9  bigmodel\n",
       "15  0.347933  0.168742  0.889470  0.550985  1.049930        9      9  bigmodel"
      ]
     },
     "execution_count": 38,
     "metadata": {},
     "output_type": "execute_result"
    }
   ],
   "source": [
    "experiments, outcomes = results\n",
    "experiments.head(20)"
   ]
  },
  {
   "cell_type": "code",
   "execution_count": 31,
   "metadata": {},
   "outputs": [
    {
     "data": {
      "text/html": [
       "<div>\n",
       "<style scoped>\n",
       "    .dataframe tbody tr th:only-of-type {\n",
       "        vertical-align: middle;\n",
       "    }\n",
       "\n",
       "    .dataframe tbody tr th {\n",
       "        vertical-align: top;\n",
       "    }\n",
       "\n",
       "    .dataframe thead th {\n",
       "        text-align: right;\n",
       "    }\n",
       "</style>\n",
       "<table border=\"1\" class=\"dataframe\">\n",
       "  <thead>\n",
       "    <tr style=\"text-align: right;\">\n",
       "      <th></th>\n",
       "      <th>Activity</th>\n",
       "      <th>No</th>\n",
       "      <th>VVW</th>\n",
       "      <th>MOTIEF</th>\n",
       "      <th>PERIODE</th>\n",
       "      <th>O</th>\n",
       "      <th>D</th>\n",
       "      <th>Value</th>\n",
       "    </tr>\n",
       "  </thead>\n",
       "  <tbody>\n",
       "    <tr>\n",
       "      <th>0</th>\n",
       "      <td>0</td>\n",
       "      <td>1001</td>\n",
       "      <td>AB</td>\n",
       "      <td>WW</td>\n",
       "      <td>ET</td>\n",
       "      <td>1</td>\n",
       "      <td>1</td>\n",
       "      <td>23945.253284</td>\n",
       "    </tr>\n",
       "    <tr>\n",
       "      <th>1</th>\n",
       "      <td>0</td>\n",
       "      <td>1001</td>\n",
       "      <td>AB</td>\n",
       "      <td>WW</td>\n",
       "      <td>ET</td>\n",
       "      <td>1</td>\n",
       "      <td>2</td>\n",
       "      <td>14591.578351</td>\n",
       "    </tr>\n",
       "    <tr>\n",
       "      <th>2</th>\n",
       "      <td>0</td>\n",
       "      <td>1001</td>\n",
       "      <td>AB</td>\n",
       "      <td>WW</td>\n",
       "      <td>ET</td>\n",
       "      <td>1</td>\n",
       "      <td>3</td>\n",
       "      <td>13213.264806</td>\n",
       "    </tr>\n",
       "    <tr>\n",
       "      <th>3</th>\n",
       "      <td>0</td>\n",
       "      <td>1001</td>\n",
       "      <td>AB</td>\n",
       "      <td>WW</td>\n",
       "      <td>ET</td>\n",
       "      <td>1</td>\n",
       "      <td>4</td>\n",
       "      <td>573.767399</td>\n",
       "    </tr>\n",
       "    <tr>\n",
       "      <th>4</th>\n",
       "      <td>0</td>\n",
       "      <td>1001</td>\n",
       "      <td>AB</td>\n",
       "      <td>WW</td>\n",
       "      <td>ET</td>\n",
       "      <td>1</td>\n",
       "      <td>5</td>\n",
       "      <td>0.000000</td>\n",
       "    </tr>\n",
       "    <tr>\n",
       "      <th>...</th>\n",
       "      <td>...</td>\n",
       "      <td>...</td>\n",
       "      <td>...</td>\n",
       "      <td>...</td>\n",
       "      <td>...</td>\n",
       "      <td>...</td>\n",
       "      <td>...</td>\n",
       "      <td>...</td>\n",
       "    </tr>\n",
       "    <tr>\n",
       "      <th>4243</th>\n",
       "      <td>0</td>\n",
       "      <td>1118</td>\n",
       "      <td>AB</td>\n",
       "      <td>OVxTERUG</td>\n",
       "      <td>ET</td>\n",
       "      <td>6</td>\n",
       "      <td>2</td>\n",
       "      <td>0.000000</td>\n",
       "    </tr>\n",
       "    <tr>\n",
       "      <th>4244</th>\n",
       "      <td>0</td>\n",
       "      <td>1118</td>\n",
       "      <td>AB</td>\n",
       "      <td>OVxTERUG</td>\n",
       "      <td>ET</td>\n",
       "      <td>6</td>\n",
       "      <td>3</td>\n",
       "      <td>0.000000</td>\n",
       "    </tr>\n",
       "    <tr>\n",
       "      <th>4245</th>\n",
       "      <td>0</td>\n",
       "      <td>1118</td>\n",
       "      <td>AB</td>\n",
       "      <td>OVxTERUG</td>\n",
       "      <td>ET</td>\n",
       "      <td>6</td>\n",
       "      <td>4</td>\n",
       "      <td>0.000000</td>\n",
       "    </tr>\n",
       "    <tr>\n",
       "      <th>4246</th>\n",
       "      <td>0</td>\n",
       "      <td>1118</td>\n",
       "      <td>AB</td>\n",
       "      <td>OVxTERUG</td>\n",
       "      <td>ET</td>\n",
       "      <td>6</td>\n",
       "      <td>5</td>\n",
       "      <td>0.000000</td>\n",
       "    </tr>\n",
       "    <tr>\n",
       "      <th>4247</th>\n",
       "      <td>0</td>\n",
       "      <td>1118</td>\n",
       "      <td>AB</td>\n",
       "      <td>OVxTERUG</td>\n",
       "      <td>ET</td>\n",
       "      <td>6</td>\n",
       "      <td>6</td>\n",
       "      <td>0.000000</td>\n",
       "    </tr>\n",
       "  </tbody>\n",
       "</table>\n",
       "<p>4248 rows × 8 columns</p>\n",
       "</div>"
      ],
      "text/plain": [
       "      Activity    No VVW    MOTIEF PERIODE  O  D         Value\n",
       "0            0  1001  AB        WW      ET  1  1  23945.253284\n",
       "1            0  1001  AB        WW      ET  1  2  14591.578351\n",
       "2            0  1001  AB        WW      ET  1  3  13213.264806\n",
       "3            0  1001  AB        WW      ET  1  4    573.767399\n",
       "4            0  1001  AB        WW      ET  1  5      0.000000\n",
       "...        ...   ...  ..       ...     ... .. ..           ...\n",
       "4243         0  1118  AB  OVxTERUG      ET  6  2      0.000000\n",
       "4244         0  1118  AB  OVxTERUG      ET  6  3      0.000000\n",
       "4245         0  1118  AB  OVxTERUG      ET  6  4      0.000000\n",
       "4246         0  1118  AB  OVxTERUG      ET  6  5      0.000000\n",
       "4247         0  1118  AB  OVxTERUG      ET  6  6      0.000000\n",
       "\n",
       "[4248 rows x 8 columns]"
      ]
     },
     "execution_count": 31,
     "metadata": {},
     "output_type": "execute_result"
    }
   ],
   "source": [
    "df1 = pd.read_csv('20201221 Mobilitievisie Groningen - complete/TAB_GroVem_2040H_Iter1.csv')\n",
    "df1"
   ]
  },
  {
   "cell_type": "code",
   "execution_count": 32,
   "metadata": {},
   "outputs": [
    {
     "data": {
      "text/plain": [
       "80561846.89415254"
      ]
     },
     "execution_count": 32,
     "metadata": {},
     "output_type": "execute_result"
    }
   ],
   "source": [
    "df1.Value.sum()"
   ]
  },
  {
   "cell_type": "code",
   "execution_count": null,
   "metadata": {},
   "outputs": [],
   "source": [
    "Visum.net."
   ]
  },
  {
   "cell_type": "code",
   "execution_count": 39,
   "metadata": {},
   "outputs": [
    {
     "data": {
      "text/plain": [
       "{'car_share': array([0.45083802, 0.46100139, 0.44946599, 0.45376263, 0.4830119 ,\n",
       "        0.49248436, 0.48137688, 0.48565782, 0.46103363, 0.4711718 ,\n",
       "        0.45958121, 0.46393146, 0.4941484 , 0.50346546, 0.49244577,\n",
       "        0.49672942]),\n",
       " 'OV_share': array([0.0891023 , 0.09191861, 0.08959007, 0.09009217, 0.08376672,\n",
       "        0.08639857, 0.08427543, 0.0847036 , 0.0815868 , 0.08419977,\n",
       "        0.08211858, 0.08252255, 0.07891952, 0.08141367, 0.07944834,\n",
       "        0.07981755]),\n",
       " 'total_km': array([77349103.5735413 , 79230042.03410344, 80309595.00619397,\n",
       "        78627173.01583925, 78565216.35193478, 80460153.12907706,\n",
       "        81542129.00528288, 79851543.375194  , 77472590.4832777 ,\n",
       "        79349460.8733305 , 80434314.9335161 , 78749693.92094785,\n",
       "        78858065.57657395, 80752578.29534298, 81839312.55263829,\n",
       "        80145282.62302059])}"
      ]
     },
     "execution_count": 39,
     "metadata": {},
     "output_type": "execute_result"
    }
   ],
   "source": [
    "outcomes"
   ]
  },
  {
   "cell_type": "code",
   "execution_count": 40,
   "metadata": {},
   "outputs": [],
   "source": [
    "policies = experiments['policy']\n",
    "for i, policy in enumerate(np.unique(policies)):\n",
    "    experiments.loc[policies==policy, 'policy'] = str(i)\n",
    "\n",
    "data = pd.DataFrame(outcomes)\n",
    "data['policy'] = policies"
   ]
  },
  {
   "cell_type": "code",
   "execution_count": 41,
   "metadata": {},
   "outputs": [
    {
     "data": {
      "image/png": "[encoded data removed]",
      "text/plain": [
       "<Figure size 582.375x540 with 12 Axes>"
      ]
     },
     "metadata": {
      "needs_background": "light"
     },
     "output_type": "display_data"
    }
   ],
   "source": [
    "sns.pairplot(data, hue='policy', vars=list(outcomes.keys()))\n",
    "plt.show()"
   ]
  },
  {
   "cell_type": "code",
   "execution_count": 42,
   "metadata": {},
   "outputs": [
    {
     "name": "stderr",
     "output_type": "stream",
     "text": [
      "C:\\Users\\nlilbm\\Anaconda3\\lib\\site-packages\\ema_workbench\\analysis\\prim.py:30: ImportWarning: altair based interactive inspection not available\n",
      "  warnings.warn((\"altair based interactive \"\n",
      "[MainProcess/INFO] no time dimension found in results\n"
     ]
    },
    {
     "data": {
      "image/png": "[encoded data removed]",
      "text/plain": [
       "<Figure size 576x576 with 9 Axes>"
      ]
     },
     "metadata": {
      "needs_background": "light"
     },
     "output_type": "display_data"
    }
   ],
   "source": [
    "from ema_workbench.analysis import pairs_plotting\n",
    "\n",
    "fig, axes = pairs_plotting.pairs_scatter(experiments, outcomes, group_by='policy',\n",
    "                                         legend=False)\n",
    "fig.set_size_inches(8,8)\n",
    "plt.show()"
   ]
  },
  {
   "cell_type": "code",
   "execution_count": 43,
   "metadata": {},
   "outputs": [
    {
     "name": "stderr",
     "output_type": "stream",
     "text": [
      "[MainProcess/INFO] results saved successfully to C:\\Users\\nlilbm\\Documents\\Thesis\\16 scenarios 4 policies.tar.gz\n",
      "[MainProcess/INFO] results loaded succesfully from C:\\Users\\nlilbm\\Documents\\Thesis\\16 scenarios 4 policies.tar.gz\n"
     ]
    }
   ],
   "source": [
    "from ema_workbench import save_results\n",
    "save_results(results, '16 scenarios 4 policies.tar.gz')\n",
    "\n",
    "from ema_workbench import load_results\n",
    "results = load_results('16 scenarios 4 policies.tar.gz')"
   ]
  },
  {
   "cell_type": "code",
   "execution_count": 45,
   "metadata": {},
   "outputs": [
    {
     "name": "stderr",
     "output_type": "stream",
     "text": [
      "[MainProcess/INFO] model dropped from analysis because only a single category\n",
      "[MainProcess/INFO] 16 points remaining, containing 11 cases of interest\n",
      "[MainProcess/INFO] mean: 1.0, mass: 0.5625, coverage: 0.8181818181818182, density: 1.0 restricted_dimensions: 2\n"
     ]
    }
   ],
   "source": [
    "from ema_workbench.analysis import prim\n",
    "\n",
    "x = experiments\n",
    "y = outcomes['car_share'] < 0.49\n",
    "prim_alg = prim.Prim(x, y, threshold=0.8)\n",
    "box1 = prim_alg.find_box()"
   ]
  },
  {
   "cell_type": "code",
   "execution_count": 46,
   "metadata": {},
   "outputs": [
    {
     "data": {
      "image/png": "[encoded data removed]",
      "text/plain": [
       "<Figure size 432x288 with 2 Axes>"
      ]
     },
     "metadata": {
      "needs_background": "light"
     },
     "output_type": "display_data"
    }
   ],
   "source": [
    "box1.show_tradeoff()\n",
    "plt.show()"
   ]
  },
  {
   "cell_type": "code",
   "execution_count": 50,
   "metadata": {},
   "outputs": [
    {
     "name": "stdout",
     "output_type": "stream",
     "text": [
      "coverage    0.818182\n",
      "density            1\n",
      "id                 2\n",
      "mass          0.5625\n",
      "mean               1\n",
      "res_dim            2\n",
      "Name: 2, dtype: object\n",
      "\n",
      "             box 2                                       \n",
      "               min       max                    qp values\n",
      "KMKOSTEN  0.579641  0.825432  [0.07508468627929688, -1.0]\n",
      "EBIKE_BS  0.302802  0.438869  [0.45698605951046484, -1.0]\n",
      "\n"
     ]
    },
    {
     "data": {
      "image/png": "[encoded data removed]",
      "text/plain": [
       "<Figure size 432x288 with 1 Axes>"
      ]
     },
     "metadata": {
      "needs_background": "light"
     },
     "output_type": "display_data"
    }
   ],
   "source": [
    "box1.inspect(2)\n",
    "box1.inspect(2, style='graph')\n",
    "plt.show()"
   ]
  },
  {
   "cell_type": "code",
   "execution_count": 52,
   "metadata": {},
   "outputs": [
    {
     "data": {
      "image/png": "[encoded data removed]",
      "text/plain": [
       "<Figure size 421.25x360 with 6 Axes>"
      ]
     },
     "metadata": {
      "needs_background": "light"
     },
     "output_type": "display_data"
    }
   ],
   "source": [
    "box1.show_pairs_scatter(2)\n",
    "plt.show()"
   ]
  },
  {
   "cell_type": "code",
   "execution_count": 53,
   "metadata": {},
   "outputs": [
    {
     "name": "stderr",
     "output_type": "stream",
     "text": [
      "[MainProcess/INFO] model dropped from analysis because only a single category\n",
      "[MainProcess/INFO] model dropped from analysis because only a single category\n",
      "[MainProcess/INFO] model dropped from analysis because only a single category\n"
     ]
    },
    {
     "data": {
      "image/png": "[encoded data removed]",
      "text/plain": [
       "<Figure size 432x288 with 2 Axes>"
      ]
     },
     "metadata": {
      "needs_background": "light"
     },
     "output_type": "display_data"
    }
   ],
   "source": [
    "from ema_workbench.analysis import feature_scoring\n",
    "\n",
    "x = experiments\n",
    "y = outcomes\n",
    "\n",
    "fs = feature_scoring.get_feature_scores_all(x, y)\n",
    "sns.heatmap(fs, cmap='viridis', annot=True)\n",
    "plt.show()"
   ]
  },
  {
   "cell_type": "code",
   "execution_count": 76,
   "metadata": {},
   "outputs": [
    {
     "name": "stderr",
     "output_type": "stream",
     "text": [
      "[MainProcess/INFO] model dropped from analysis because only a single category\n"
     ]
    },
    {
     "data": {
      "image/png": "[encoded data removed]",
      "text/plain": [
       "<Figure size 720x720 with 4 Axes>"
      ]
     },
     "metadata": {},
     "output_type": "display_data"
    }
   ],
   "source": [
    "from ema_workbench.analysis import dimensional_stacking\n",
    "\n",
    "x = experiments\n",
    "y = outcomes['car_share'] < 0.49\n",
    "dimensional_stacking.create_pivot_plot(x,y, 1, nbins=3)\n",
    "plt.show()\n"
   ]
  },
  {
   "cell_type": "code",
   "execution_count": 66,
   "metadata": {},
   "outputs": [],
   "source": [
    "from ema_workbench import (RealParameter, IntegerParameter, ScalarOutcome, Constant,\n",
    "                           Model)\n",
    "\n",
    "model = Model('bigmodel', function=big_model)\n",
    "\n",
    "#specify uncertainties\n",
    "model.uncertainties = [RealParameter('EBIKE_BS', 0.2, 0.5),\n",
    "                      RealParameter('EBIKE_OW', 0.08, 0.25),\n",
    "                      RealParameter('THUISW', 0.8, 0.99)]\n",
    "\n",
    "# set levers\n",
    "model.levers = [RealParameter('KMKOSTEN', 0.5 ,0.9),\n",
    "               RealParameter('OVKOSTEN', 0.9, 1.1),\n",
    "               RealParameter('EBIKE_BS', 0.2, 0.5),\n",
    "                RealParameter('EBIKE_OW', 0.08, 0.25),\n",
    "                RealParameter('THUISW', 0.8, 0.99)]\n",
    "\n",
    "#specify outcomes\n",
    "model.outcomes = [ScalarOutcome('car_share',ScalarOutcome.MINIMIZE),\n",
    "                  ScalarOutcome('OV_share',ScalarOutcome.MAXIMIZE),\n",
    "                  ScalarOutcome('total_km',ScalarOutcome.MAXIMIZE),]\n",
    "\n",
    "model.constants = [Constant('nsamples', 1)]"
   ]
  },
  {
   "cell_type": "code",
   "execution_count": 67,
   "metadata": {},
   "outputs": [
    {
     "name": "stderr",
     "output_type": "stream",
     "text": [
      "[MainProcess/INFO] generation 0: 0/250 nfe\n"
     ]
    },
    {
     "ename": "KeyboardInterrupt",
     "evalue": "",
     "output_type": "error",
     "traceback": [
      "\u001b[1;31m---------------------------------------------------------------------------\u001b[0m",
      "\u001b[1;31mKeyboardInterrupt\u001b[0m                         Traceback (most recent call last)",
      "\u001b[1;32m<ipython-input-67-f63ef8946841>\u001b[0m in \u001b[0;36m<module>\u001b[1;34m\u001b[0m\n\u001b[0;32m      4\u001b[0m \u001b[1;33m\u001b[0m\u001b[0m\n\u001b[0;32m      5\u001b[0m \u001b[1;32mwith\u001b[0m \u001b[0mSequentialEvaluator\u001b[0m\u001b[1;33m(\u001b[0m\u001b[0mmodel\u001b[0m\u001b[1;33m)\u001b[0m \u001b[1;32mas\u001b[0m \u001b[0mevaluator\u001b[0m\u001b[1;33m:\u001b[0m\u001b[1;33m\u001b[0m\u001b[1;33m\u001b[0m\u001b[0m\n\u001b[1;32m----> 6\u001b[1;33m     results = evaluator.optimize(nfe=250, searchover='levers',\n\u001b[0m\u001b[0;32m      7\u001b[0m                                  epsilons=[0.1,]*len(model.outcomes))\n",
      "\u001b[1;32m~\\Anaconda3\\lib\\site-packages\\ema_workbench\\em_framework\\evaluators.py\u001b[0m in \u001b[0;36moptimize\u001b[1;34m(self, algorithm, nfe, searchover, reference, constraints, convergence_freq, logging_freq, **kwargs)\u001b[0m\n\u001b[0;32m    184\u001b[0m \u001b[1;33m\u001b[0m\u001b[0m\n\u001b[0;32m    185\u001b[0m         '''\n\u001b[1;32m--> 186\u001b[1;33m         return optimize(self._msis, algorithm=algorithm, nfe=int(nfe),\n\u001b[0m\u001b[0;32m    187\u001b[0m                         \u001b[0msearchover\u001b[0m\u001b[1;33m=\u001b[0m\u001b[0msearchover\u001b[0m\u001b[1;33m,\u001b[0m \u001b[0mevaluator\u001b[0m\u001b[1;33m=\u001b[0m\u001b[0mself\u001b[0m\u001b[1;33m,\u001b[0m\u001b[1;33m\u001b[0m\u001b[1;33m\u001b[0m\u001b[0m\n\u001b[0;32m    188\u001b[0m                         \u001b[0mreference\u001b[0m\u001b[1;33m=\u001b[0m\u001b[0mreference\u001b[0m\u001b[1;33m,\u001b[0m \u001b[0mconstraints\u001b[0m\u001b[1;33m=\u001b[0m\u001b[0mconstraints\u001b[0m\u001b[1;33m,\u001b[0m\u001b[1;33m\u001b[0m\u001b[1;33m\u001b[0m\u001b[0m\n",
      "\u001b[1;32m~\\Anaconda3\\lib\\site-packages\\ema_workbench\\em_framework\\evaluators.py\u001b[0m in \u001b[0;36moptimize\u001b[1;34m(models, algorithm, nfe, searchover, evaluator, reference, convergence, constraints, convergence_freq, logging_freq, **kwargs)\u001b[0m\n\u001b[0;32m    535\u001b[0m         \u001b[0mevaluator\u001b[0m \u001b[1;33m=\u001b[0m \u001b[0mSequentialEvaluator\u001b[0m\u001b[1;33m(\u001b[0m\u001b[0mmodels\u001b[0m\u001b[1;33m)\u001b[0m\u001b[1;33m\u001b[0m\u001b[1;33m\u001b[0m\u001b[0m\n\u001b[0;32m    536\u001b[0m \u001b[1;33m\u001b[0m\u001b[0m\n\u001b[1;32m--> 537\u001b[1;33m     return _optimize(problem, evaluator, algorithm, convergence, nfe,\n\u001b[0m\u001b[0;32m    538\u001b[0m                      convergence_freq, logging_freq, **kwargs)\n\u001b[0;32m    539\u001b[0m \u001b[1;33m\u001b[0m\u001b[0m\n",
      "\u001b[1;32m~\\Anaconda3\\lib\\site-packages\\ema_workbench\\em_framework\\optimization.py\u001b[0m in \u001b[0;36m_optimize\u001b[1;34m(problem, evaluator, algorithm, convergence, nfe, convergence_freq, logging_freq, **kwargs)\u001b[0m\n\u001b[0;32m    827\u001b[0m     with temporary_filter(name=[callbacks.__name__,\n\u001b[0;32m    828\u001b[0m                                 evaluators.__name__], level=INFO):\n\u001b[1;32m--> 829\u001b[1;33m         \u001b[0moptimizer\u001b[0m\u001b[1;33m.\u001b[0m\u001b[0mrun\u001b[0m\u001b[1;33m(\u001b[0m\u001b[0mnfe\u001b[0m\u001b[1;33m)\u001b[0m\u001b[1;33m\u001b[0m\u001b[1;33m\u001b[0m\u001b[0m\n\u001b[0m\u001b[0;32m    830\u001b[0m \u001b[1;33m\u001b[0m\u001b[0m\n\u001b[0;32m    831\u001b[0m     results = to_dataframe(optimizer, problem.parameter_names,\n",
      "\u001b[1;32m~\\Anaconda3\\lib\\site-packages\\platypus\\core.py\u001b[0m in \u001b[0;36mrun\u001b[1;34m(self, condition, callback)\u001b[0m\n\u001b[0;32m    406\u001b[0m \u001b[1;33m\u001b[0m\u001b[0m\n\u001b[0;32m    407\u001b[0m         \u001b[1;32mwhile\u001b[0m \u001b[1;32mnot\u001b[0m \u001b[0mcondition\u001b[0m\u001b[1;33m(\u001b[0m\u001b[0mself\u001b[0m\u001b[1;33m)\u001b[0m\u001b[1;33m:\u001b[0m\u001b[1;33m\u001b[0m\u001b[1;33m\u001b[0m\u001b[0m\n\u001b[1;32m--> 408\u001b[1;33m             \u001b[0mself\u001b[0m\u001b[1;33m.\u001b[0m\u001b[0mstep\u001b[0m\u001b[1;33m(\u001b[0m\u001b[1;33m)\u001b[0m\u001b[1;33m\u001b[0m\u001b[1;33m\u001b[0m\u001b[0m\n\u001b[0m\u001b[0;32m    409\u001b[0m \u001b[1;33m\u001b[0m\u001b[0m\n\u001b[0;32m    410\u001b[0m             \u001b[1;32mif\u001b[0m \u001b[0mself\u001b[0m\u001b[1;33m.\u001b[0m\u001b[0mlog_frequency\u001b[0m \u001b[1;32mis\u001b[0m \u001b[1;32mnot\u001b[0m \u001b[1;32mNone\u001b[0m \u001b[1;32mand\u001b[0m \u001b[0mself\u001b[0m\u001b[1;33m.\u001b[0m\u001b[0mnfe\u001b[0m \u001b[1;33m>=\u001b[0m \u001b[0mlast_log\u001b[0m \u001b[1;33m+\u001b[0m \u001b[0mself\u001b[0m\u001b[1;33m.\u001b[0m\u001b[0mlog_frequency\u001b[0m\u001b[1;33m:\u001b[0m\u001b[1;33m\u001b[0m\u001b[1;33m\u001b[0m\u001b[0m\n",
      "\u001b[1;32m~\\Anaconda3\\lib\\site-packages\\platypus\\algorithms.py\u001b[0m in \u001b[0;36mstep\u001b[1;34m(self)\u001b[0m\n\u001b[0;32m   1520\u001b[0m \u001b[1;33m\u001b[0m\u001b[0m\n\u001b[0;32m   1521\u001b[0m     \u001b[1;32mdef\u001b[0m \u001b[0mstep\u001b[0m\u001b[1;33m(\u001b[0m\u001b[0mself\u001b[0m\u001b[1;33m)\u001b[0m\u001b[1;33m:\u001b[0m\u001b[1;33m\u001b[0m\u001b[1;33m\u001b[0m\u001b[0m\n\u001b[1;32m-> 1522\u001b[1;33m         \u001b[0mself\u001b[0m\u001b[1;33m.\u001b[0m\u001b[0malgorithm\u001b[0m\u001b[1;33m.\u001b[0m\u001b[0mstep\u001b[0m\u001b[1;33m(\u001b[0m\u001b[1;33m)\u001b[0m\u001b[1;33m\u001b[0m\u001b[1;33m\u001b[0m\u001b[0m\n\u001b[0m\u001b[0;32m   1523\u001b[0m         \u001b[0mself\u001b[0m\u001b[1;33m.\u001b[0m\u001b[0miteration\u001b[0m \u001b[1;33m+=\u001b[0m \u001b[1;36m1\u001b[0m\u001b[1;33m\u001b[0m\u001b[1;33m\u001b[0m\u001b[0m\n\u001b[0;32m   1524\u001b[0m         \u001b[0mself\u001b[0m\u001b[1;33m.\u001b[0m\u001b[0mnfe\u001b[0m \u001b[1;33m=\u001b[0m \u001b[0mself\u001b[0m\u001b[1;33m.\u001b[0m\u001b[0malgorithm\u001b[0m\u001b[1;33m.\u001b[0m\u001b[0mnfe\u001b[0m\u001b[1;33m\u001b[0m\u001b[1;33m\u001b[0m\u001b[0m\n",
      "\u001b[1;32m~\\Anaconda3\\lib\\site-packages\\platypus\\algorithms.py\u001b[0m in \u001b[0;36mstep\u001b[1;34m(self)\u001b[0m\n\u001b[0;32m    179\u001b[0m     \u001b[1;32mdef\u001b[0m \u001b[0mstep\u001b[0m\u001b[1;33m(\u001b[0m\u001b[0mself\u001b[0m\u001b[1;33m)\u001b[0m\u001b[1;33m:\u001b[0m\u001b[1;33m\u001b[0m\u001b[1;33m\u001b[0m\u001b[0m\n\u001b[0;32m    180\u001b[0m         \u001b[1;32mif\u001b[0m \u001b[0mself\u001b[0m\u001b[1;33m.\u001b[0m\u001b[0mnfe\u001b[0m \u001b[1;33m==\u001b[0m \u001b[1;36m0\u001b[0m\u001b[1;33m:\u001b[0m\u001b[1;33m\u001b[0m\u001b[1;33m\u001b[0m\u001b[0m\n\u001b[1;32m--> 181\u001b[1;33m             \u001b[0mself\u001b[0m\u001b[1;33m.\u001b[0m\u001b[0minitialize\u001b[0m\u001b[1;33m(\u001b[0m\u001b[1;33m)\u001b[0m\u001b[1;33m\u001b[0m\u001b[1;33m\u001b[0m\u001b[0m\n\u001b[0m\u001b[0;32m    182\u001b[0m         \u001b[1;32melse\u001b[0m\u001b[1;33m:\u001b[0m\u001b[1;33m\u001b[0m\u001b[1;33m\u001b[0m\u001b[0m\n\u001b[0;32m    183\u001b[0m             \u001b[0mself\u001b[0m\u001b[1;33m.\u001b[0m\u001b[0miterate\u001b[0m\u001b[1;33m(\u001b[0m\u001b[1;33m)\u001b[0m\u001b[1;33m\u001b[0m\u001b[1;33m\u001b[0m\u001b[0m\n",
      "\u001b[1;32m~\\Anaconda3\\lib\\site-packages\\platypus\\algorithms.py\u001b[0m in \u001b[0;36minitialize\u001b[1;34m(self)\u001b[0m\n\u001b[0;32m    189\u001b[0m \u001b[1;33m\u001b[0m\u001b[0m\n\u001b[0;32m    190\u001b[0m     \u001b[1;32mdef\u001b[0m \u001b[0minitialize\u001b[0m\u001b[1;33m(\u001b[0m\u001b[0mself\u001b[0m\u001b[1;33m)\u001b[0m\u001b[1;33m:\u001b[0m\u001b[1;33m\u001b[0m\u001b[1;33m\u001b[0m\u001b[0m\n\u001b[1;32m--> 191\u001b[1;33m         \u001b[0msuper\u001b[0m\u001b[1;33m(\u001b[0m\u001b[0mNSGAII\u001b[0m\u001b[1;33m,\u001b[0m \u001b[0mself\u001b[0m\u001b[1;33m)\u001b[0m\u001b[1;33m.\u001b[0m\u001b[0minitialize\u001b[0m\u001b[1;33m(\u001b[0m\u001b[1;33m)\u001b[0m\u001b[1;33m\u001b[0m\u001b[1;33m\u001b[0m\u001b[0m\n\u001b[0m\u001b[0;32m    192\u001b[0m \u001b[1;33m\u001b[0m\u001b[0m\n\u001b[0;32m    193\u001b[0m         \u001b[1;32mif\u001b[0m \u001b[0mself\u001b[0m\u001b[1;33m.\u001b[0m\u001b[0marchive\u001b[0m \u001b[1;32mis\u001b[0m \u001b[1;32mnot\u001b[0m \u001b[1;32mNone\u001b[0m\u001b[1;33m:\u001b[0m\u001b[1;33m\u001b[0m\u001b[1;33m\u001b[0m\u001b[0m\n",
      "\u001b[1;32m~\\Anaconda3\\lib\\site-packages\\platypus\\algorithms.py\u001b[0m in \u001b[0;36minitialize\u001b[1;34m(self)\u001b[0m\n\u001b[0;32m     70\u001b[0m     \u001b[1;32mdef\u001b[0m \u001b[0minitialize\u001b[0m\u001b[1;33m(\u001b[0m\u001b[0mself\u001b[0m\u001b[1;33m)\u001b[0m\u001b[1;33m:\u001b[0m\u001b[1;33m\u001b[0m\u001b[1;33m\u001b[0m\u001b[0m\n\u001b[0;32m     71\u001b[0m         \u001b[0mself\u001b[0m\u001b[1;33m.\u001b[0m\u001b[0mpopulation\u001b[0m \u001b[1;33m=\u001b[0m \u001b[1;33m[\u001b[0m\u001b[0mself\u001b[0m\u001b[1;33m.\u001b[0m\u001b[0mgenerator\u001b[0m\u001b[1;33m.\u001b[0m\u001b[0mgenerate\u001b[0m\u001b[1;33m(\u001b[0m\u001b[0mself\u001b[0m\u001b[1;33m.\u001b[0m\u001b[0mproblem\u001b[0m\u001b[1;33m)\u001b[0m \u001b[1;32mfor\u001b[0m \u001b[0m_\u001b[0m \u001b[1;32min\u001b[0m \u001b[0mrange\u001b[0m\u001b[1;33m(\u001b[0m\u001b[0mself\u001b[0m\u001b[1;33m.\u001b[0m\u001b[0mpopulation_size\u001b[0m\u001b[1;33m)\u001b[0m\u001b[1;33m]\u001b[0m\u001b[1;33m\u001b[0m\u001b[1;33m\u001b[0m\u001b[0m\n\u001b[1;32m---> 72\u001b[1;33m         \u001b[0mself\u001b[0m\u001b[1;33m.\u001b[0m\u001b[0mevaluate_all\u001b[0m\u001b[1;33m(\u001b[0m\u001b[0mself\u001b[0m\u001b[1;33m.\u001b[0m\u001b[0mpopulation\u001b[0m\u001b[1;33m)\u001b[0m\u001b[1;33m\u001b[0m\u001b[1;33m\u001b[0m\u001b[0m\n\u001b[0m\u001b[0;32m     73\u001b[0m \u001b[1;33m\u001b[0m\u001b[0m\n\u001b[0;32m     74\u001b[0m     \u001b[1;33m@\u001b[0m\u001b[0mabstractmethod\u001b[0m\u001b[1;33m\u001b[0m\u001b[1;33m\u001b[0m\u001b[0m\n",
      "\u001b[1;32m~\\Anaconda3\\lib\\site-packages\\platypus\\core.py\u001b[0m in \u001b[0;36mevaluate_all\u001b[1;34m(self, solutions)\u001b[0m\n\u001b[0;32m    379\u001b[0m \u001b[1;33m\u001b[0m\u001b[0m\n\u001b[0;32m    380\u001b[0m         \u001b[0mjobs\u001b[0m \u001b[1;33m=\u001b[0m \u001b[1;33m[\u001b[0m\u001b[0m_EvaluateJob\u001b[0m\u001b[1;33m(\u001b[0m\u001b[0ms\u001b[0m\u001b[1;33m)\u001b[0m \u001b[1;32mfor\u001b[0m \u001b[0ms\u001b[0m \u001b[1;32min\u001b[0m \u001b[0munevaluated\u001b[0m\u001b[1;33m]\u001b[0m\u001b[1;33m\u001b[0m\u001b[1;33m\u001b[0m\u001b[0m\n\u001b[1;32m--> 381\u001b[1;33m         \u001b[0mresults\u001b[0m \u001b[1;33m=\u001b[0m \u001b[0mself\u001b[0m\u001b[1;33m.\u001b[0m\u001b[0mevaluator\u001b[0m\u001b[1;33m.\u001b[0m\u001b[0mevaluate_all\u001b[0m\u001b[1;33m(\u001b[0m\u001b[0mjobs\u001b[0m\u001b[1;33m)\u001b[0m\u001b[1;33m\u001b[0m\u001b[1;33m\u001b[0m\u001b[0m\n\u001b[0m\u001b[0;32m    382\u001b[0m \u001b[1;33m\u001b[0m\u001b[0m\n\u001b[0;32m    383\u001b[0m         \u001b[1;31m# if needed, update the original solution with the results\u001b[0m\u001b[1;33m\u001b[0m\u001b[1;33m\u001b[0m\u001b[1;33m\u001b[0m\u001b[0m\n",
      "\u001b[1;32m~\\Anaconda3\\lib\\site-packages\\ema_workbench\\em_framework\\evaluators.py\u001b[0m in \u001b[0;36mevaluate_all\u001b[1;34m(self, jobs, **kwargs)\u001b[0m\n\u001b[0;32m    136\u001b[0m \u001b[1;33m\u001b[0m\u001b[0m\n\u001b[0;32m    137\u001b[0m         \u001b[1;31m# overwrite the default 10 progress reports  with 5 reports\u001b[0m\u001b[1;33m\u001b[0m\u001b[1;33m\u001b[0m\u001b[1;33m\u001b[0m\u001b[0m\n\u001b[1;32m--> 138\u001b[1;33m         callback = perform_experiments(\n\u001b[0m\u001b[0;32m    139\u001b[0m             \u001b[0mself\u001b[0m\u001b[1;33m.\u001b[0m\u001b[0m_msis\u001b[0m\u001b[1;33m,\u001b[0m\u001b[1;33m\u001b[0m\u001b[1;33m\u001b[0m\u001b[0m\n\u001b[0;32m    140\u001b[0m             \u001b[0mevaluator\u001b[0m\u001b[1;33m=\u001b[0m\u001b[0mself\u001b[0m\u001b[1;33m,\u001b[0m\u001b[1;33m\u001b[0m\u001b[1;33m\u001b[0m\u001b[0m\n",
      "\u001b[1;32m~\\Anaconda3\\lib\\site-packages\\ema_workbench\\em_framework\\evaluators.py\u001b[0m in \u001b[0;36mperform_experiments\u001b[1;34m(models, scenarios, policies, evaluator, reporting_interval, reporting_frequency, uncertainty_union, lever_union, outcome_union, uncertainty_sampling, levers_sampling, callback, return_callback)\u001b[0m\n\u001b[0;32m    466\u001b[0m         \u001b[0mevaluator\u001b[0m \u001b[1;33m=\u001b[0m \u001b[0mSequentialEvaluator\u001b[0m\u001b[1;33m(\u001b[0m\u001b[0mmodels\u001b[0m\u001b[1;33m)\u001b[0m\u001b[1;33m\u001b[0m\u001b[1;33m\u001b[0m\u001b[0m\n\u001b[0;32m    467\u001b[0m \u001b[1;33m\u001b[0m\u001b[0m\n\u001b[1;32m--> 468\u001b[1;33m     \u001b[0mevaluator\u001b[0m\u001b[1;33m.\u001b[0m\u001b[0mevaluate_experiments\u001b[0m\u001b[1;33m(\u001b[0m\u001b[0mscenarios\u001b[0m\u001b[1;33m,\u001b[0m \u001b[0mpolicies\u001b[0m\u001b[1;33m,\u001b[0m \u001b[0mcallback\u001b[0m\u001b[1;33m)\u001b[0m\u001b[1;33m\u001b[0m\u001b[1;33m\u001b[0m\u001b[0m\n\u001b[0m\u001b[0;32m    469\u001b[0m \u001b[1;33m\u001b[0m\u001b[0m\n\u001b[0;32m    470\u001b[0m     \u001b[1;32mif\u001b[0m \u001b[0mcallback\u001b[0m\u001b[1;33m.\u001b[0m\u001b[0mi\u001b[0m \u001b[1;33m!=\u001b[0m \u001b[0mnr_of_exp\u001b[0m\u001b[1;33m:\u001b[0m\u001b[1;33m\u001b[0m\u001b[1;33m\u001b[0m\u001b[0m\n",
      "\u001b[1;32m~\\Anaconda3\\lib\\site-packages\\ema_workbench\\em_framework\\evaluators.py\u001b[0m in \u001b[0;36mevaluate_experiments\u001b[1;34m(self, scenarios, policies, callback)\u001b[0m\n\u001b[0;32m    227\u001b[0m \u001b[1;33m\u001b[0m\u001b[0m\n\u001b[0;32m    228\u001b[0m         \u001b[1;32mfor\u001b[0m \u001b[0mexperiment\u001b[0m \u001b[1;32min\u001b[0m \u001b[0mex_gen\u001b[0m\u001b[1;33m:\u001b[0m\u001b[1;33m\u001b[0m\u001b[1;33m\u001b[0m\u001b[0m\n\u001b[1;32m--> 229\u001b[1;33m             \u001b[0moutcomes\u001b[0m \u001b[1;33m=\u001b[0m \u001b[0mrunner\u001b[0m\u001b[1;33m.\u001b[0m\u001b[0mrun_experiment\u001b[0m\u001b[1;33m(\u001b[0m\u001b[0mexperiment\u001b[0m\u001b[1;33m)\u001b[0m\u001b[1;33m\u001b[0m\u001b[1;33m\u001b[0m\u001b[0m\n\u001b[0m\u001b[0;32m    230\u001b[0m             \u001b[0mcallback\u001b[0m\u001b[1;33m(\u001b[0m\u001b[0mexperiment\u001b[0m\u001b[1;33m,\u001b[0m \u001b[0moutcomes\u001b[0m\u001b[1;33m)\u001b[0m\u001b[1;33m\u001b[0m\u001b[1;33m\u001b[0m\u001b[0m\n\u001b[0;32m    231\u001b[0m         \u001b[0mrunner\u001b[0m\u001b[1;33m.\u001b[0m\u001b[0mcleanup\u001b[0m\u001b[1;33m(\u001b[0m\u001b[1;33m)\u001b[0m\u001b[1;33m\u001b[0m\u001b[1;33m\u001b[0m\u001b[0m\n",
      "\u001b[1;32m~\\Anaconda3\\lib\\site-packages\\ema_workbench\\em_framework\\experiment_runner.py\u001b[0m in \u001b[0;36mrun_experiment\u001b[1;34m(self, experiment)\u001b[0m\n\u001b[0;32m     83\u001b[0m \u001b[1;33m\u001b[0m\u001b[0m\n\u001b[0;32m     84\u001b[0m         \u001b[1;32mtry\u001b[0m\u001b[1;33m:\u001b[0m\u001b[1;33m\u001b[0m\u001b[1;33m\u001b[0m\u001b[0m\n\u001b[1;32m---> 85\u001b[1;33m             \u001b[0mmodel\u001b[0m\u001b[1;33m.\u001b[0m\u001b[0mrun_model\u001b[0m\u001b[1;33m(\u001b[0m\u001b[0mscenario\u001b[0m\u001b[1;33m,\u001b[0m \u001b[0mpolicy\u001b[0m\u001b[1;33m)\u001b[0m\u001b[1;33m\u001b[0m\u001b[1;33m\u001b[0m\u001b[0m\n\u001b[0m\u001b[0;32m     86\u001b[0m         \u001b[1;32mexcept\u001b[0m \u001b[0mCaseError\u001b[0m \u001b[1;32mas\u001b[0m \u001b[0me\u001b[0m\u001b[1;33m:\u001b[0m\u001b[1;33m\u001b[0m\u001b[1;33m\u001b[0m\u001b[0m\n\u001b[0;32m     87\u001b[0m             \u001b[0m_logger\u001b[0m\u001b[1;33m.\u001b[0m\u001b[0mwarning\u001b[0m\u001b[1;33m(\u001b[0m\u001b[0mstr\u001b[0m\u001b[1;33m(\u001b[0m\u001b[0me\u001b[0m\u001b[1;33m)\u001b[0m\u001b[1;33m)\u001b[0m\u001b[1;33m\u001b[0m\u001b[1;33m\u001b[0m\u001b[0m\n",
      "\u001b[1;32m~\\Anaconda3\\lib\\site-packages\\ema_workbench\\util\\ema_logging.py\u001b[0m in \u001b[0;36mwrapper\u001b[1;34m(*args, **kwargs)\u001b[0m\n\u001b[0;32m    156\u001b[0m             \u001b[1;31m# object instance as first arguments in args\u001b[0m\u001b[1;33m\u001b[0m\u001b[1;33m\u001b[0m\u001b[1;33m\u001b[0m\u001b[0m\n\u001b[0;32m    157\u001b[0m             \u001b[0mlogger\u001b[0m\u001b[1;33m.\u001b[0m\u001b[0mdebug\u001b[0m\u001b[1;33m(\u001b[0m\u001b[1;34m'calling {} on {}'\u001b[0m\u001b[1;33m.\u001b[0m\u001b[0mformat\u001b[0m\u001b[1;33m(\u001b[0m\u001b[0mfunc\u001b[0m\u001b[1;33m.\u001b[0m\u001b[0m__name__\u001b[0m\u001b[1;33m,\u001b[0m \u001b[0mclassname\u001b[0m\u001b[1;33m)\u001b[0m\u001b[1;33m)\u001b[0m\u001b[1;33m\u001b[0m\u001b[1;33m\u001b[0m\u001b[0m\n\u001b[1;32m--> 158\u001b[1;33m             \u001b[0mres\u001b[0m \u001b[1;33m=\u001b[0m \u001b[0mfunc\u001b[0m\u001b[1;33m(\u001b[0m\u001b[1;33m*\u001b[0m\u001b[0margs\u001b[0m\u001b[1;33m,\u001b[0m \u001b[1;33m**\u001b[0m\u001b[0mkwargs\u001b[0m\u001b[1;33m)\u001b[0m\u001b[1;33m\u001b[0m\u001b[1;33m\u001b[0m\u001b[0m\n\u001b[0m\u001b[0;32m    159\u001b[0m             logger.debug(\n\u001b[0;32m    160\u001b[0m                 'completed calling {} on {}'.format(\n",
      "\u001b[1;32m~\\Anaconda3\\lib\\site-packages\\ema_workbench\\em_framework\\model.py\u001b[0m in \u001b[0;36mrun_model\u001b[1;34m(self, scenario, policy)\u001b[0m\n\u001b[0;32m    336\u001b[0m         \u001b[0mexperiment\u001b[0m \u001b[1;33m=\u001b[0m \u001b[0mExperiment\u001b[0m\u001b[1;33m(\u001b[0m\u001b[0mscenario\u001b[0m\u001b[1;33m,\u001b[0m \u001b[0mself\u001b[0m\u001b[1;33m.\u001b[0m\u001b[0mpolicy\u001b[0m\u001b[1;33m,\u001b[0m \u001b[0mconstants\u001b[0m\u001b[1;33m)\u001b[0m\u001b[1;33m\u001b[0m\u001b[1;33m\u001b[0m\u001b[0m\n\u001b[0;32m    337\u001b[0m \u001b[1;33m\u001b[0m\u001b[0m\n\u001b[1;32m--> 338\u001b[1;33m         \u001b[0moutputs\u001b[0m \u001b[1;33m=\u001b[0m \u001b[0mself\u001b[0m\u001b[1;33m.\u001b[0m\u001b[0mrun_experiment\u001b[0m\u001b[1;33m(\u001b[0m\u001b[0mexperiment\u001b[0m\u001b[1;33m)\u001b[0m\u001b[1;33m\u001b[0m\u001b[1;33m\u001b[0m\u001b[0m\n\u001b[0m\u001b[0;32m    339\u001b[0m \u001b[1;33m\u001b[0m\u001b[0m\n\u001b[0;32m    340\u001b[0m         \u001b[0mself\u001b[0m\u001b[1;33m.\u001b[0m\u001b[0moutcomes_output\u001b[0m \u001b[1;33m=\u001b[0m \u001b[0moutputs\u001b[0m\u001b[1;33m\u001b[0m\u001b[1;33m\u001b[0m\u001b[0m\n",
      "\u001b[1;32m~\\Anaconda3\\lib\\site-packages\\ema_workbench\\util\\ema_logging.py\u001b[0m in \u001b[0;36mwrapper\u001b[1;34m(*args, **kwargs)\u001b[0m\n\u001b[0;32m    156\u001b[0m             \u001b[1;31m# object instance as first arguments in args\u001b[0m\u001b[1;33m\u001b[0m\u001b[1;33m\u001b[0m\u001b[1;33m\u001b[0m\u001b[0m\n\u001b[0;32m    157\u001b[0m             \u001b[0mlogger\u001b[0m\u001b[1;33m.\u001b[0m\u001b[0mdebug\u001b[0m\u001b[1;33m(\u001b[0m\u001b[1;34m'calling {} on {}'\u001b[0m\u001b[1;33m.\u001b[0m\u001b[0mformat\u001b[0m\u001b[1;33m(\u001b[0m\u001b[0mfunc\u001b[0m\u001b[1;33m.\u001b[0m\u001b[0m__name__\u001b[0m\u001b[1;33m,\u001b[0m \u001b[0mclassname\u001b[0m\u001b[1;33m)\u001b[0m\u001b[1;33m)\u001b[0m\u001b[1;33m\u001b[0m\u001b[1;33m\u001b[0m\u001b[0m\n\u001b[1;32m--> 158\u001b[1;33m             \u001b[0mres\u001b[0m \u001b[1;33m=\u001b[0m \u001b[0mfunc\u001b[0m\u001b[1;33m(\u001b[0m\u001b[1;33m*\u001b[0m\u001b[0margs\u001b[0m\u001b[1;33m,\u001b[0m \u001b[1;33m**\u001b[0m\u001b[0mkwargs\u001b[0m\u001b[1;33m)\u001b[0m\u001b[1;33m\u001b[0m\u001b[1;33m\u001b[0m\u001b[0m\n\u001b[0m\u001b[0;32m    159\u001b[0m             logger.debug(\n\u001b[0;32m    160\u001b[0m                 'completed calling {} on {}'.format(\n",
      "\u001b[1;32m~\\Anaconda3\\lib\\site-packages\\ema_workbench\\em_framework\\model.py\u001b[0m in \u001b[0;36mrun_experiment\u001b[1;34m(self, experiment)\u001b[0m\n\u001b[0;32m    389\u001b[0m \u001b[1;33m\u001b[0m\u001b[0m\n\u001b[0;32m    390\u001b[0m         \"\"\"\n\u001b[1;32m--> 391\u001b[1;33m         \u001b[0mmodel_output\u001b[0m \u001b[1;33m=\u001b[0m \u001b[0mself\u001b[0m\u001b[1;33m.\u001b[0m\u001b[0mfunction\u001b[0m\u001b[1;33m(\u001b[0m\u001b[1;33m**\u001b[0m\u001b[0mexperiment\u001b[0m\u001b[1;33m)\u001b[0m\u001b[1;33m\u001b[0m\u001b[1;33m\u001b[0m\u001b[0m\n\u001b[0m\u001b[0;32m    392\u001b[0m \u001b[1;33m\u001b[0m\u001b[0m\n\u001b[0;32m    393\u001b[0m         \u001b[1;31m# TODO: might it be possible to somehow abstract this\u001b[0m\u001b[1;33m\u001b[0m\u001b[1;33m\u001b[0m\u001b[1;33m\u001b[0m\u001b[0m\n",
      "\u001b[1;32m<ipython-input-13-cfa7d26e093d>\u001b[0m in \u001b[0;36mbig_model\u001b[1;34m(KMKOSTEN, OVKOSTEN, EBIKE_BS, EBIKE_OW, THUISW, nsamples)\u001b[0m\n\u001b[0;32m      3\u001b[0m \u001b[1;33m\u001b[0m\u001b[0m\n\u001b[0;32m      4\u001b[0m     \u001b[1;32mfor\u001b[0m \u001b[0mi\u001b[0m \u001b[1;32min\u001b[0m \u001b[0mrange\u001b[0m\u001b[1;33m(\u001b[0m\u001b[0mnsamples\u001b[0m\u001b[1;33m)\u001b[0m\u001b[1;33m:\u001b[0m\u001b[1;33m\u001b[0m\u001b[1;33m\u001b[0m\u001b[0m\n\u001b[1;32m----> 5\u001b[1;33m         \u001b[0mVisum\u001b[0m\u001b[1;33m.\u001b[0m\u001b[0mProcedures\u001b[0m\u001b[1;33m.\u001b[0m\u001b[0mExecute\u001b[0m\u001b[1;33m(\u001b[0m\u001b[1;33m)\u001b[0m\u001b[1;33m\u001b[0m\u001b[1;33m\u001b[0m\u001b[0m\n\u001b[0m\u001b[0;32m      6\u001b[0m \u001b[1;33m\u001b[0m\u001b[0m\n\u001b[0;32m      7\u001b[0m     \u001b[0mdf1\u001b[0m \u001b[1;33m=\u001b[0m \u001b[0mpd\u001b[0m\u001b[1;33m.\u001b[0m\u001b[0mread_csv\u001b[0m\u001b[1;33m(\u001b[0m\u001b[1;34m'20201221 Mobilitievisie Groningen - complete/TAB_GroVem_2040H_Iter1.csv'\u001b[0m\u001b[1;33m)\u001b[0m\u001b[1;33m\u001b[0m\u001b[1;33m\u001b[0m\u001b[0m\n",
      "\u001b[1;32m~\\Anaconda3\\lib\\site-packages\\win32com\\client\\dynamic.py\u001b[0m in \u001b[0;36mExecute\u001b[1;34m(self)\u001b[0m\n",
      "\u001b[1;31mKeyboardInterrupt\u001b[0m: "
     ]
    }
   ],
   "source": [
    "from ema_workbench import MultiprocessingEvaluator, ema_logging\n",
    "\n",
    "ema_logging.log_to_stderr(ema_logging.INFO)\n",
    "\n",
    "with SequentialEvaluator(model) as evaluator:\n",
    "    results = evaluator.optimize(nfe=250, searchover='levers',\n",
    "                                 epsilons=[0.1,]*len(model.outcomes))"
   ]
  },
  {
   "cell_type": "code",
   "execution_count": null,
   "metadata": {},
   "outputs": [],
   "source": []
  }
 ],
 "metadata": {
  "kernelspec": {
   "display_name": "Python 3",
   "language": "python",
   "name": "python3"
  },
  "language_info": {
   "codemirror_mode": {
    "name": "ipython",
    "version": 3
   },
   "file_extension": ".py",
   "mimetype": "text/x-python",
   "name": "python",
   "nbconvert_exporter": "python",
   "pygments_lexer": "ipython3",
   "version": "3.8.5"
  }
 },
 "nbformat": 4,
 "nbformat_minor": 4
}
